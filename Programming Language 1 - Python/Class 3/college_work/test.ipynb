{
 "cells": [
  {
   "cell_type": "code",
   "execution_count": null,
   "metadata": {},
   "outputs": [],
   "source": [
    "\"\"\"\n",
    "    *** DATASET REPORT ***\n",
    "    \n",
    "    Vamos obter informações sobre o rendimento de alunos de um curso em algumas\n",
    "    disciplinas ao longo dos anos.\n",
    "\n",
    "    O primeiro arquivo (dataset_report.csv), refere-se ao aproveitamento de estudantes \n",
    "    na disciplina ALGORITMOS 1 entre os anos de 2011 e 2022.\n",
    "\n",
    "    A primeira coluna (matricula) é composta por números inteiros, onde \n",
    "    cada número representa um indivíduo. Assim, repetições nessa coluna indicam \n",
    "    que o estudante fez mais de uma vez a mesma matéria.\n",
    "\n",
    "    Atenção: \n",
    "    R-nota indica REPROVAÇÃO POR NOTA\n",
    "    R-freq REPROVAÇÃO POR FALTA \n",
    "    \n",
    "    Se houver outro 'status' para representar reprovação, este dever ser \n",
    "    trocado para o rótulo adequado (R-nota ou R-freq). \n",
    "    \n",
    "    Frequências < 75 causam reprovação por falta; \n",
    "    Médias abaixo de 50 causam reprovação por nota.\n",
    "\n",
    "    Analise o dataset do referido arquivo para responder as seguintes perguntas:\n",
    "\n",
    "    1.  Qual é a média de nota dos aprovados (no período total e por ano)?\n",
    "    2.  Qual é a média de nota dos reprovados por nota (período total e ano)?\n",
    "    3.  Qual é a frequência dos reprovados por nota (período total e por ano)?\n",
    "    4.  Qual a porcentagem de evasões (total e anual)?\n",
    "    5.  Como os anos de pandemia impactaram no rendimento dos estudantes em \n",
    "        relação aos anos anteriores, considerando o rendimento dos aprovados, a taxa \n",
    "        de cancelamento e as reprovações? Considere como anos de pandemia \n",
    "        os anos de 2020 e 2021.\n",
    "    6.  Compare a volta às aulas híbrida (2022 período 1) com os anos de \n",
    "        pandemia e os anos anteriores.\n",
    "    7.  Compare a volta às aulas presencial (2022 período 2) com a volta \n",
    "        híbrida do item anterior.\n",
    "\"\"\""
   ]
  },
  {
   "cell_type": "code",
   "execution_count": 3,
   "metadata": {},
   "outputs": [],
   "source": [
    "import pandas\n",
    "\n",
    "# carrega o dataframe\n",
    "dataframe = pandas.read_csv('dataset.csv')"
   ]
  },
  {
   "cell_type": "code",
   "execution_count": 9,
   "metadata": {},
   "outputs": [],
   "source": [
    "# remove matriculas em andamento (com ano 2022 e período 2) para que não altere as estatísticas\n",
    "dataframe = dataframe[(dataframe['ano'] != 2022) | (dataframe['periodo'] != 2)]\n"
   ]
  },
  {
   "cell_type": "code",
   "execution_count": 12,
   "metadata": {},
   "outputs": [
    {
     "name": "stdout",
     "output_type": "stream",
     "text": [
      "1.  Qual é a média de nota dos aprovados (no período total e por ano)?\n",
      "Média de nota dos aprovados (total): 77.58\n",
      "Média de nota dos aprovados por ano:\n",
      "ano\n",
      "2011    50.000000\n",
      "2013    72.714286\n",
      "2014    70.666667\n",
      "2015    68.576923\n",
      "2016    72.093023\n",
      "2017    78.106061\n",
      "2018    76.406250\n",
      "2019    74.741176\n",
      "2020    84.466667\n",
      "2021    83.882353\n",
      "2022    77.818182\n",
      "Name: nota, dtype: float64\n"
     ]
    }
   ],
   "source": [
    "print('1.  Qual é a média de nota dos aprovados (no período total e por ano)?')\n",
    "\n",
    "# remove os aprovados do tipo EQUIVALENCIA para não alterar as estatísticas (esses registros estão com nota 0)\n",
    "aprovados = dataframe[(dataframe['status'] == 'Aprovado') & (dataframe['tipo'] != 'EQUIVALENCIA')]\n",
    "media_aprovados_total = aprovados['nota'].mean()\n",
    "\n",
    "print(f\"Média de nota dos aprovados (total): {media_aprovados_total:.2f}\")\n",
    "\n",
    "media_aprovados_ano = aprovados.groupby('ano')['nota'].mean()\n",
    "\n",
    "print(f\"Média de nota dos aprovados por ano:\")\n",
    "print(media_aprovados_ano)"
   ]
  },
  {
   "cell_type": "code",
   "execution_count": 13,
   "metadata": {},
   "outputs": [
    {
     "name": "stdout",
     "output_type": "stream",
     "text": [
      "2.  Qual é a média de nota dos reprovados por nota (período total e ano)?\n",
      "Média de nota dos reprovados por nota (total): 22.04\n",
      "Média de nota dos reprovados por nota por ano:\n",
      "ano\n",
      "2012    24.000000\n",
      "2013    30.000000\n",
      "2014    25.000000\n",
      "2015    19.833333\n",
      "2016    15.400000\n",
      "2017    25.904762\n",
      "2018    23.136364\n",
      "2019    23.321429\n",
      "2020    25.875000\n",
      "2021    19.589744\n",
      "2022    19.777778\n",
      "Name: nota, dtype: float64\n"
     ]
    }
   ],
   "source": [
    "print('2.  Qual é a média de nota dos reprovados por nota (período total e ano)?')\n",
    "\n",
    "reprovados_nota = dataframe[dataframe['status'] == 'R-nota']\n",
    "media_reprovados_nota_total = reprovados_nota['nota'].mean()\n",
    "\n",
    "print(f\"Média de nota dos reprovados por nota (total): {media_reprovados_nota_total:.2f}\")\n",
    "\n",
    "media_reprovados_nota_ano = reprovados_nota.groupby('ano')['nota'].mean()\n",
    "\n",
    "print(f\"Média de nota dos reprovados por nota por ano:\")\n",
    "print(media_reprovados_nota_ano)\n"
   ]
  }
 ],
 "metadata": {
  "kernelspec": {
   "display_name": "Python 3",
   "language": "python",
   "name": "python3"
  },
  "language_info": {
   "codemirror_mode": {
    "name": "ipython",
    "version": 3
   },
   "file_extension": ".py",
   "mimetype": "text/x-python",
   "name": "python",
   "nbconvert_exporter": "python",
   "pygments_lexer": "ipython3",
   "version": "3.9.2"
  }
 },
 "nbformat": 4,
 "nbformat_minor": 2
}
