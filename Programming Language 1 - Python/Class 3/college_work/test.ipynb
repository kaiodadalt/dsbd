{
 "cells": [
  {
   "cell_type": "code",
   "execution_count": null,
   "metadata": {},
   "outputs": [],
   "source": [
    "\"\"\"\n",
    "    *** DATASET REPORT ***\n",
    "    \n",
    "    Vamos obter informações sobre o rendimento de alunos de um curso em algumas\n",
    "    disciplinas ao longo dos anos.\n",
    "\n",
    "    O primeiro arquivo (dataset_report.csv), refere-se ao aproveitamento de estudantes \n",
    "    na disciplina ALGORITMOS 1 entre os anos de 2011 e 2022.\n",
    "\n",
    "    A primeira coluna (matricula) é composta por números inteiros, onde \n",
    "    cada número representa um indivíduo. Assim, repetições nessa coluna indicam \n",
    "    que o estudante fez mais de uma vez a mesma matéria.\n",
    "\n",
    "    Atenção: \n",
    "    R-nota indica REPROVAÇÃO POR NOTA\n",
    "    R-freq REPROVAÇÃO POR FALTA \n",
    "    \n",
    "    Se houver outro 'status' para representar reprovação, este dever ser \n",
    "    trocado para o rótulo adequado (R-nota ou R-freq). \n",
    "    \n",
    "    Frequências < 75 causam reprovação por falta; \n",
    "    Médias abaixo de 50 causam reprovação por nota.\n",
    "\n",
    "    Analise o dataset do referido arquivo para responder as seguintes perguntas:\n",
    "\n",
    "    1.  Qual é a média de nota dos aprovados (no período total e por ano)?\n",
    "    2.  Qual é a média de nota dos reprovados por nota (período total e ano)?\n",
    "    3.  Qual é a frequência dos reprovados por nota (período total e por ano)?\n",
    "    4.  Qual a porcentagem de evasões (total e anual)?\n",
    "    5.  Como os anos de pandemia impactaram no rendimento dos estudantes em \n",
    "        relação aos anos anteriores, considerando o rendimento dos aprovados, a taxa \n",
    "        de cancelamento e as reprovações? Considere como anos de pandemia \n",
    "        os anos de 2020 e 2021.\n",
    "    6.  Compare a volta às aulas híbrida (2022 período 1) com os anos de \n",
    "        pandemia e os anos anteriores.\n",
    "    7.  Compare a volta às aulas presencial (2022 período 2) com a volta \n",
    "        híbrida do item anterior.\n",
    "\"\"\""
   ]
  },
  {
   "cell_type": "code",
   "execution_count": 3,
   "metadata": {},
   "outputs": [],
   "source": [
    "import pandas\n",
    "\n",
    "# carrega o dataframe\n",
    "dataframe = pandas.read_csv('dataset.csv')"
   ]
  },
  {
   "cell_type": "code",
   "execution_count": 9,
   "metadata": {},
   "outputs": [],
   "source": [
    "# remove matriculas em andamento (com ano 2022 e período 2) para que não altere as estatísticas\n",
    "dataframe = dataframe[(dataframe['ano'] != 2022) | (dataframe['periodo'] != 2)]\n"
   ]
  },
  {
   "cell_type": "code",
   "execution_count": 12,
   "metadata": {},
   "outputs": [
    {
     "name": "stdout",
     "output_type": "stream",
     "text": [
      "1.  Qual é a média de nota dos aprovados (no período total e por ano)?\n",
      "Média de nota dos aprovados (total): 77.58\n",
      "Média de nota dos aprovados por ano:\n",
      "ano\n",
      "2011    50.000000\n",
      "2013    72.714286\n",
      "2014    70.666667\n",
      "2015    68.576923\n",
      "2016    72.093023\n",
      "2017    78.106061\n",
      "2018    76.406250\n",
      "2019    74.741176\n",
      "2020    84.466667\n",
      "2021    83.882353\n",
      "2022    77.818182\n",
      "Name: nota, dtype: float64\n"
     ]
    }
   ],
   "source": [
    "print('1.  Qual é a média de nota dos aprovados (no período total e por ano)?')\n",
    "\n",
    "# remove os aprovados do tipo EQUIVALENCIA para não alterar as estatísticas (esses registros estão com nota 0)\n",
    "aprovados = dataframe[(dataframe['status'] == 'Aprovado') & (dataframe['tipo'] != 'EQUIVALENCIA')]\n",
    "media_aprovados_total = aprovados['nota'].mean()\n",
    "\n",
    "print(f\"Média de nota dos aprovados (total): {media_aprovados_total:.2f}\")\n",
    "\n",
    "media_aprovados_ano = aprovados.groupby('ano')['nota'].mean()\n",
    "\n",
    "print(f\"Média de nota dos aprovados por ano:\")\n",
    "print(media_aprovados_ano)"
   ]
  },
  {
   "cell_type": "code",
   "execution_count": 13,
   "metadata": {},
   "outputs": [
    {
     "name": "stdout",
     "output_type": "stream",
     "text": [
      "2.  Qual é a média de nota dos reprovados por nota (período total e ano)?\n",
      "Média de nota dos reprovados por nota (total): 22.04\n",
      "Média de nota dos reprovados por nota por ano:\n",
      "ano\n",
      "2012    24.000000\n",
      "2013    30.000000\n",
      "2014    25.000000\n",
      "2015    19.833333\n",
      "2016    15.400000\n",
      "2017    25.904762\n",
      "2018    23.136364\n",
      "2019    23.321429\n",
      "2020    25.875000\n",
      "2021    19.589744\n",
      "2022    19.777778\n",
      "Name: nota, dtype: float64\n"
     ]
    }
   ],
   "source": [
    "print('2.  Qual é a média de nota dos reprovados por nota (período total e ano)?')\n",
    "\n",
    "reprovados_nota = dataframe[dataframe['status'] == 'R-nota']\n",
    "media_reprovados_nota_total = reprovados_nota['nota'].mean()\n",
    "\n",
    "print(f\"Média de nota dos reprovados por nota (total): {media_reprovados_nota_total:.2f}\")\n",
    "\n",
    "media_reprovados_nota_ano = reprovados_nota.groupby('ano')['nota'].mean()\n",
    "\n",
    "print(f\"Média de nota dos reprovados por nota por ano:\")\n",
    "print(media_reprovados_nota_ano)\n"
   ]
  },
  {
   "cell_type": "code",
   "execution_count": 17,
   "metadata": {},
   "outputs": [
    {
     "name": "stdout",
     "output_type": "stream",
     "text": [
      "3.  Qual é a frequência dos reprovados por nota (período total e por ano)?\n",
      "Porcentagem de alunos reprovados por nota (em relação aos que reprovaram - total): 76.78%\n",
      "Porcentagem de alunos reprovados por nota (em relação aos que reprovaram - por ano):\n",
      "ano\n",
      "2012     50.000000\n",
      "2013    100.000000\n",
      "2014     20.000000\n",
      "2015     85.714286\n",
      "2016     83.333333\n",
      "2017     91.304348\n",
      "2018     81.481481\n",
      "2019     80.000000\n",
      "2020     66.666667\n",
      "2021     70.909091\n",
      "2022     79.411765\n",
      "Name: status, dtype: float64\n"
     ]
    }
   ],
   "source": [
    "# total de alunos que reprovaram por nota em relação ao total de alunos que reprovaram (período total e por ano)\n",
    "print('3.  Qual é a frequência dos reprovados por nota (período total e por ano)?')\n",
    "\n",
    "# Create a group of students who failed\n",
    "failed_students = dataframe[dataframe['status'].isin(['R-nota', 'R-freq'])]\n",
    "\n",
    "# Total Period\n",
    "total_failed_students = len(failed_students)\n",
    "total_students = len(dataframe['matricula'].unique())\n",
    "percentage_failed_by_grade_total = (len(dataframe[dataframe['status'] == 'R-nota']) / total_failed_students) * 100\n",
    "\n",
    "print(f\"Porcentagem de alunos reprovados por nota (em relação aos que reprovaram - total): {percentage_failed_by_grade_total:.2f}%\")\n",
    "\n",
    "# By Year\n",
    "failed_students_by_year = failed_students.groupby('ano')\n",
    "percentage_failed_by_grade_year = failed_students_by_year['status'].apply(lambda x: len(x[x == 'R-nota']) / len(x)) * 100\n",
    "\n",
    "print(f\"Porcentagem de alunos reprovados por nota (em relação aos que reprovaram - por ano):\")\n",
    "print(percentage_failed_by_grade_year)\n",
    "\n",
    "\n"
   ]
  },
  {
   "cell_type": "code",
   "execution_count": 18,
   "metadata": {},
   "outputs": [
    {
     "name": "stdout",
     "output_type": "stream",
     "text": [
      "4.   Qual a porcentagem de evasões (total e anual)?\n"
     ]
    },
    {
     "name": "stderr",
     "output_type": "stream",
     "text": [
      "/tmp/ipykernel_10257/5024311.py:7: UserWarning: Boolean Series key will be reindexed to match DataFrame index.\n",
      "  dropouts = dataframe[potential_dropouts]\n"
     ]
    },
    {
     "ename": "IndexingError",
     "evalue": "Unalignable boolean Series provided as indexer (index of the boolean Series and of the indexed object do not match).",
     "output_type": "error",
     "traceback": [
      "\u001b[0;31m---------------------------------------------------------------------------\u001b[0m",
      "\u001b[0;31mIndexingError\u001b[0m                             Traceback (most recent call last)",
      "Cell \u001b[0;32mIn[18], line 7\u001b[0m\n\u001b[1;32m      4\u001b[0m potential_dropouts \u001b[38;5;241m=\u001b[39m dataframe\u001b[38;5;241m.\u001b[39mgroupby(\u001b[38;5;124m'\u001b[39m\u001b[38;5;124mmatricula\u001b[39m\u001b[38;5;124m'\u001b[39m)[\u001b[38;5;124m'\u001b[39m\u001b[38;5;124mperiodo\u001b[39m\u001b[38;5;124m'\u001b[39m]\u001b[38;5;241m.\u001b[39mnunique() \u001b[38;5;241m==\u001b[39m \u001b[38;5;241m1\u001b[39m\n\u001b[1;32m      6\u001b[0m \u001b[38;5;66;03m# Filter the DataFrame to only include potential dropouts\u001b[39;00m\n\u001b[0;32m----> 7\u001b[0m dropouts \u001b[38;5;241m=\u001b[39m \u001b[43mdataframe\u001b[49m\u001b[43m[\u001b[49m\u001b[43mpotential_dropouts\u001b[49m\u001b[43m]\u001b[49m\n\u001b[1;32m      9\u001b[0m \u001b[38;5;66;03m# Total Period Dropout Rate\u001b[39;00m\n\u001b[1;32m     10\u001b[0m total_dropouts \u001b[38;5;241m=\u001b[39m \u001b[38;5;28mlen\u001b[39m(dropouts)\n",
      "File \u001b[0;32m~/.local/lib/python3.9/site-packages/pandas/core/frame.py:4093\u001b[0m, in \u001b[0;36mDataFrame.__getitem__\u001b[0;34m(self, key)\u001b[0m\n\u001b[1;32m   4091\u001b[0m \u001b[38;5;66;03m# Do we have a (boolean) 1d indexer?\u001b[39;00m\n\u001b[1;32m   4092\u001b[0m \u001b[38;5;28;01mif\u001b[39;00m com\u001b[38;5;241m.\u001b[39mis_bool_indexer(key):\n\u001b[0;32m-> 4093\u001b[0m     \u001b[38;5;28;01mreturn\u001b[39;00m \u001b[38;5;28;43mself\u001b[39;49m\u001b[38;5;241;43m.\u001b[39;49m\u001b[43m_getitem_bool_array\u001b[49m\u001b[43m(\u001b[49m\u001b[43mkey\u001b[49m\u001b[43m)\u001b[49m\n\u001b[1;32m   4095\u001b[0m \u001b[38;5;66;03m# We are left with two options: a single key, and a collection of keys,\u001b[39;00m\n\u001b[1;32m   4096\u001b[0m \u001b[38;5;66;03m# We interpret tuples as collections only for non-MultiIndex\u001b[39;00m\n\u001b[1;32m   4097\u001b[0m is_single_key \u001b[38;5;241m=\u001b[39m \u001b[38;5;28misinstance\u001b[39m(key, \u001b[38;5;28mtuple\u001b[39m) \u001b[38;5;129;01mor\u001b[39;00m \u001b[38;5;129;01mnot\u001b[39;00m is_list_like(key)\n",
      "File \u001b[0;32m~/.local/lib/python3.9/site-packages/pandas/core/frame.py:4149\u001b[0m, in \u001b[0;36mDataFrame._getitem_bool_array\u001b[0;34m(self, key)\u001b[0m\n\u001b[1;32m   4143\u001b[0m     \u001b[38;5;28;01mraise\u001b[39;00m \u001b[38;5;167;01mValueError\u001b[39;00m(\n\u001b[1;32m   4144\u001b[0m         \u001b[38;5;124mf\u001b[39m\u001b[38;5;124m\"\u001b[39m\u001b[38;5;124mItem wrong length \u001b[39m\u001b[38;5;132;01m{\u001b[39;00m\u001b[38;5;28mlen\u001b[39m(key)\u001b[38;5;132;01m}\u001b[39;00m\u001b[38;5;124m instead of \u001b[39m\u001b[38;5;132;01m{\u001b[39;00m\u001b[38;5;28mlen\u001b[39m(\u001b[38;5;28mself\u001b[39m\u001b[38;5;241m.\u001b[39mindex)\u001b[38;5;132;01m}\u001b[39;00m\u001b[38;5;124m.\u001b[39m\u001b[38;5;124m\"\u001b[39m\n\u001b[1;32m   4145\u001b[0m     )\n\u001b[1;32m   4147\u001b[0m \u001b[38;5;66;03m# check_bool_indexer will throw exception if Series key cannot\u001b[39;00m\n\u001b[1;32m   4148\u001b[0m \u001b[38;5;66;03m# be reindexed to match DataFrame rows\u001b[39;00m\n\u001b[0;32m-> 4149\u001b[0m key \u001b[38;5;241m=\u001b[39m \u001b[43mcheck_bool_indexer\u001b[49m\u001b[43m(\u001b[49m\u001b[38;5;28;43mself\u001b[39;49m\u001b[38;5;241;43m.\u001b[39;49m\u001b[43mindex\u001b[49m\u001b[43m,\u001b[49m\u001b[43m \u001b[49m\u001b[43mkey\u001b[49m\u001b[43m)\u001b[49m\n\u001b[1;32m   4151\u001b[0m \u001b[38;5;28;01mif\u001b[39;00m key\u001b[38;5;241m.\u001b[39mall():\n\u001b[1;32m   4152\u001b[0m     \u001b[38;5;28;01mreturn\u001b[39;00m \u001b[38;5;28mself\u001b[39m\u001b[38;5;241m.\u001b[39mcopy(deep\u001b[38;5;241m=\u001b[39m\u001b[38;5;28;01mNone\u001b[39;00m)\n",
      "File \u001b[0;32m~/.local/lib/python3.9/site-packages/pandas/core/indexing.py:2662\u001b[0m, in \u001b[0;36mcheck_bool_indexer\u001b[0;34m(index, key)\u001b[0m\n\u001b[1;32m   2660\u001b[0m indexer \u001b[38;5;241m=\u001b[39m result\u001b[38;5;241m.\u001b[39mindex\u001b[38;5;241m.\u001b[39mget_indexer_for(index)\n\u001b[1;32m   2661\u001b[0m \u001b[38;5;28;01mif\u001b[39;00m \u001b[38;5;241m-\u001b[39m\u001b[38;5;241m1\u001b[39m \u001b[38;5;129;01min\u001b[39;00m indexer:\n\u001b[0;32m-> 2662\u001b[0m     \u001b[38;5;28;01mraise\u001b[39;00m IndexingError(\n\u001b[1;32m   2663\u001b[0m         \u001b[38;5;124m\"\u001b[39m\u001b[38;5;124mUnalignable boolean Series provided as \u001b[39m\u001b[38;5;124m\"\u001b[39m\n\u001b[1;32m   2664\u001b[0m         \u001b[38;5;124m\"\u001b[39m\u001b[38;5;124mindexer (index of the boolean Series and of \u001b[39m\u001b[38;5;124m\"\u001b[39m\n\u001b[1;32m   2665\u001b[0m         \u001b[38;5;124m\"\u001b[39m\u001b[38;5;124mthe indexed object do not match).\u001b[39m\u001b[38;5;124m\"\u001b[39m\n\u001b[1;32m   2666\u001b[0m     )\n\u001b[1;32m   2668\u001b[0m result \u001b[38;5;241m=\u001b[39m result\u001b[38;5;241m.\u001b[39mtake(indexer)\n\u001b[1;32m   2670\u001b[0m \u001b[38;5;66;03m# fall through for boolean\u001b[39;00m\n",
      "\u001b[0;31mIndexingError\u001b[0m: Unalignable boolean Series provided as indexer (index of the boolean Series and of the indexed object do not match)."
     ]
    }
   ],
   "source": [
    "print('4.   Qual a porcentagem de evasões (total e anual)?')\n",
    "\n",
    "# Identify students who enrolled but did not appear in any subsequent periods\n",
    "potential_dropouts = dataframe.groupby('matricula')['periodo'].nunique() == 1\n",
    "\n",
    "# Filter the DataFrame to only include potential dropouts\n",
    "dropouts = dataframe[potential_dropouts]\n",
    "\n",
    "# Total Period Dropout Rate\n",
    "total_dropouts = len(dropouts)\n",
    "total_students = len(dataframe['matricula'].unique())\n",
    "percentage_dropout_total = (total_dropouts / total_students) * 100\n",
    "\n",
    "print(f\"Porcentagem de evasão (total): {percentage_dropout_total:.2f}%\")\n",
    "\n",
    "# Annual Dropout Rate\n",
    "dropout_by_year = dropouts.groupby('ano')['matricula'].nunique()\n",
    "percentage_dropout_year = dropout_by_year / dataframe.groupby('ano')['matricula'].nunique() * 100\n",
    "\n",
    "print(f\"Porcentagem de evasão (anual):\")\n",
    "print(percentage_dropout_year.apply(lambda x: f\"{x:.2f}%\"))\n"
   ]
  }
 ],
 "metadata": {
  "kernelspec": {
   "display_name": "Python 3",
   "language": "python",
   "name": "python3"
  },
  "language_info": {
   "codemirror_mode": {
    "name": "ipython",
    "version": 3
   },
   "file_extension": ".py",
   "mimetype": "text/x-python",
   "name": "python",
   "nbconvert_exporter": "python",
   "pygments_lexer": "ipython3",
   "version": "3.9.2"
  }
 },
 "nbformat": 4,
 "nbformat_minor": 2
}
